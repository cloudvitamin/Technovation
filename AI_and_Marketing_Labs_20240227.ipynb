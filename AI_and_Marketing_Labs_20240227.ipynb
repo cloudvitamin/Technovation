{
  "nbformat": 4,
  "nbformat_minor": 0,
  "metadata": {
    "colab": {
      "provenance": [],
      "toc_visible": true
    },
    "kernelspec": {
      "name": "python3",
      "display_name": "Python 3"
    }
  },
  "cells": [
    {
      "cell_type": "markdown",
      "source": [
        "---\n",
        "---\n",
        "# **IA/AI & Marketing**\n",
        "## Comment les marques utilisent l'IA pour mieux comprendre les consommateur·trices\n",
        "## How brands are using AI to better understand consumers\n",
        "\n",
        "---\n",
        "---"
      ],
      "metadata": {
        "id": "UkeI6RWHdHO6"
      }
    },
    {
      "cell_type": "markdown",
      "metadata": {
        "id": "BTUBwUXacjAh"
      },
      "source": [
        "**BEFORE YOU BEGIN,** please work from a copy of this notebook in your Google Drive *(File > Save a copy in Drive)*.\n",
        "\n",
        "If you skip this step, any changes you make **will not be saved.**\n",
        "\n",
        "...\n",
        "\n",
        "**AVANT DE COMMENCER**, veuillez travailler à partir d'une copie de ce cahier dans votre Google Drive *(Fichier > Enregistrer une copie dans Drive)*.\n",
        "\n",
        "Si vous sautez cette étape, les modifications que vous apporterez **ne seront pas sauvegardées**.\n",
        "\n",
        "\n",
        "\n",
        "\n"
      ]
    },
    {
      "cell_type": "markdown",
      "metadata": {
        "id": "_jTjfV3BdrYu"
      },
      "source": [
        "# **1:Introduction**\n",
        "\n",
        "This labs notebook, created for a [Technovation, Code with me - AI](https://www.technovationmontreal.com/artificial-intelligence/en) workshop, guides you through data exploration and simple AI model creation. It uses sample data that is similar to behavioral data captured on real website or mobile application.\n",
        "\n",
        "This is an introductory activity, so all of the code has already been written for you -- all you need to do is click a button to run it! We've also included comments about what the code is doing so you can start to get a hang of what Python functions look like.\n",
        "\n",
        "</br>\n",
        "\n",
        "---\n",
        "\n",
        "</br>\n",
        "\n",
        "\n",
        "\n",
        "Ce *notebook*, créé pour un atelier [Technovation, Code avec moi - IA](https://www.technovationmontreal.com/intelligence-artificielle), vous guide dans l'exploration des données et la création d'un modèle d'IA simple. Il utilise des échantillons de données qui sont similaires aux données comportementales capturées sur un site web réel ou une application mobile.\n",
        "\n",
        "Il s'agit d'une activité d'introduction, donc tout le code a déjà été écrit pour vous - tout ce que vous avez à faire est de cliquer sur un bouton pour l'exécuter ! Nous avons également inclus des commentaires sur ce que fait le code afin que vous puissiez commencer à comprendre à quoi ressemblent les fonctions Python."
      ]
    },
    {
      "cell_type": "markdown",
      "metadata": {
        "id": "j8xvs70BV8KB"
      },
      "source": [
        "## C'est quoi Colab ? | What's Colab?"
      ]
    },
    {
      "cell_type": "markdown",
      "metadata": {
        "id": "Iav7mEiAF_-k"
      },
      "source": [
        "*Colaboratory*, or **Colab** for short, is a free Google product that allows anybody to write and execute arbitrary Python code through the browser (for free!). Each .ipynb file is called a Colab \"notebook,\" and can be stored in Google Drive just like Google Docs or Sheets, which you may already be familiar with.\n",
        "\n",
        "If you haven't seen or interacted with this kind of document before, don't worry! Just keep following the tutorial in this section and you'll be good to go for the rest of the activity.\n",
        "\n",
        "</br>\n",
        "\n",
        "---\n",
        "\n",
        "</br>\n",
        "\n",
        "*Colaboratory*, ou **Colab** en abrégé, est un produit Google gratuit qui permet à quiconque d'écrire et d'exécuter du code Python arbitraire par le biais du navigateur (gratuitement !). Chaque fichier .ipynb est appelé un \"notebook\" Colab, et peut être stocké dans Google Drive tout comme Google Docs ou Sheets, que vous connaissez peut-être déjà.\n",
        "\n",
        "Si vous n'avez jamais vu ou utilisé ce type de document, ne vous inquiétez pas ! Suivez simplement le tutoriel de cette section et vous serez prêt pour le reste de l'activité."
      ]
    },
    {
      "cell_type": "markdown",
      "metadata": {
        "id": "SRPn1F27HvsY"
      },
      "source": [
        "###Comprendre la structure d'un Notebook | Understanding Notebook structure"
      ]
    },
    {
      "cell_type": "markdown",
      "metadata": {
        "id": "3Xox3m_9IT3i"
      },
      "source": [
        "The building blocks of every notebook are called *cells.* If you click once on this paragraph, you can see an outline of the cell it lives in. **Try clicking some of the paragraphs or headers from earlier in the notebook to see the different cells.**\n",
        "\n",
        "There are two types of cells: *text* and *code*, which are both editable. *Text cells* contain formatted text, as you've seen, and *code cells* contain executable Python code.\n",
        "Let us demonstrate...\n",
        "\n"
      ]
    },
    {
      "cell_type": "markdown",
      "metadata": {
        "id": "l-ksS56aJj9I"
      },
      "source": [
        "\n",
        "\n",
        "</br>\n",
        "\n",
        "---\n",
        "\n",
        "</br>\n",
        "\n",
        "\n",
        "Les éléments constitutifs de chaque cahier sont appelés *cellules*. Si vous cliquez une fois sur ce paragraphe, vous pouvez voir un aperçu de la cellule dans laquelle il se trouve. Essayez de cliquer sur certains paragraphes ou en-têtes plus tôt dans le carnet pour voir les différentes cellules.\n",
        "\n",
        "Il existe deux types de cellules : *texte* et *code*, qui sont toutes deux modifiables. Les cellules *texte* contiennent du texte formaté, comme vous l'avez vu, et les cellules *code* contiennent du code Python exécutable.\n",
        "Voyons ce qu'il en est..."
      ]
    },
    {
      "cell_type": "markdown",
      "metadata": {
        "id": "s0La43CwKU0u"
      },
      "source": [
        "***This is a text cell.*** | **Ceci est une cellule Texte**"
      ]
    },
    {
      "cell_type": "code",
      "metadata": {
        "id": "4OBDRbHnKZVN"
      },
      "source": [
        "# And this is a code cell. | Et ça, c'est une cellule de Code"
      ],
      "execution_count": null,
      "outputs": []
    },
    {
      "cell_type": "markdown",
      "metadata": {
        "id": "aElM7fvANeQq"
      },
      "source": [
        "Next, you'll learn how to create, edit, and move around cells yourself!.\n",
        "\n",
        "...\n",
        "\n",
        "Par la suite, vous apprendrez à créer, modifier et déplacer des cellules vous-même !"
      ]
    },
    {
      "cell_type": "markdown",
      "metadata": {
        "id": "uOlYMswXMFTe"
      },
      "source": [
        "###Travailler avec les cellules | Working with cells"
      ]
    },
    {
      "cell_type": "markdown",
      "metadata": {
        "id": "_Mi4M81aRRMv"
      },
      "source": [
        "**To CREATE a new cell, hover your mouse over the bottom edge of this cell.** You should see one button for a new code cell, and another for a new text cell.\n",
        "\n",
        "\n",
        "**First, create a new text cell below and write a random sentence or two.** Maybe write about what you ate yesterday, or the video you last watched on YouTube.\n",
        "\n",
        "You may notice something a little funny about the way the text you input looks vs. the text that's actually displayed on the cell. Each text cell is formatted using a syntax that's called Markdown. All it basically does is help mark formatted text (like **bolded** or *italicized* text) in a way that a computer can understand.\n",
        "\n",
        "But don't worry about memorizing the syntax, because you can just use the icons that show up on the top of the cell when you start typing. **Feel free to play around with the icons to understand how they change your text.**\n",
        "\n",
        "***To stop editing, simply click on a different cell.***\n",
        "\n",
        "</br>\n",
        "\n",
        "---\n",
        "\n",
        "</br>\n",
        "\n",
        "**Pour CRÉER une nouvelle cellule, passez votre souris sur le bord inférieur de cette cellule.** Vous devriez voir un bouton pour une nouvelle cellule de code, et un autre pour une nouvelle cellule de texte.\n",
        "\n",
        "\n",
        "**Créez d'abord une nouvelle cellule de texte ci-dessous et écrivez une ou deux phrases au hasard.** Par exemple, parlez de ce que vous avez mangé hier ou de la dernière vidéo que vous avez regardée sur YouTube.\n",
        "\n",
        "Vous remarquerez peut-être que le texte que vous saisissez a un aspect un peu bizarre par rapport au texte qui s'affiche réellement dans la cellule. Chaque cellule de texte est formatée à l'aide d'une syntaxe appelée Markdown. Cette syntaxe permet de marquer du texte formaté (comme du texte **en gras** ou *en italique*) d'une manière compréhensible par un ordinateur.\n",
        "\n",
        "Mais ne vous souciez pas de mémoriser la syntaxe, car vous pouvez simplement utiliser les icônes qui s'affichent en haut de la cellule lorsque vous commencez à taper. **N'hésitez pas à jouer avec les icônes pour comprendre comment elles modifient votre texte.\n",
        "\n",
        "***Pour arrêter l'édition, il suffit de cliquer sur une autre cellule.***\n",
        "\n",
        "..."
      ]
    },
    {
      "cell_type": "markdown",
      "metadata": {
        "id": "6B5mEq8NGFGB"
      },
      "source": [
        "**To EDIT an existing cell, double click it.** Try it on the cell you just created.\n",
        "\n",
        "**To MOVE an existing cell, first select it, then use the ↑ or ↓ arrows on the upper right of the cell to change its position.** Try moving your cell below this one.\n",
        "\n",
        "**To DELETE an existing cell, first select it, then click the trash can icon at the upper right of the cell.** Try it on the cell you created.\n",
        "\n",
        "You may be curious about the other symbols in the top right corner. Feel free to explore what they do.\n",
        "\n",
        "*If you ever want to undo a cell deletion, you can use the Edit dropdown menu above.*\n",
        "\n",
        "Hopefully this section helped you become familiar with working with a notebook document. The last thing you need to learn in order to complete this activity is how to run the code, which we'll dive into next.\n",
        "\n",
        "\n",
        "</br>\n",
        "\n",
        "---\n",
        "\n",
        "</br>\n",
        "\n",
        "\n",
        "**Pour MODIFIER une cellule existante, double-cliquez dessus.** Essayez sur la cellule que vous venez de créer.\n",
        "\n",
        "**Pour DÉPLACER une cellule existante, sélectionnez-la d'abord, puis utilisez les flèches ↑ ou ↓ en haut à droite de la cellule pour changer sa position.** Essayez de déplacer votre cellule en dessous de celle-ci.\n",
        "\n",
        "**Pour SUPPRIMER une cellule existante, sélectionnez-la d'abord, puis cliquez sur l'icône de la corbeille en haut à droite de la cellule.** Essayez de le faire sur la cellule que vous avez créée.\n",
        "\n",
        "Vous êtes peut-être curieux de connaître les autres symboles dans le coin supérieur droit. N'hésitez pas à explorer ce qu'ils font.\n",
        "\n",
        "*Si vous souhaitez annuler la suppression d'une cellule, vous pouvez utiliser le menu déroulant Modifier ci-dessus.\n",
        "\n",
        "Nous espérons que cette section vous a permis de vous familiariser avec l'utilisation d'un document notebook. La dernière chose que vous devez apprendre pour réaliser cette activité est comment exécuter le code, ce que nous verrons plus loin."
      ]
    },
    {
      "cell_type": "markdown",
      "metadata": {
        "id": "VNRLMjRlLW6l"
      },
      "source": [
        "###Exécuter les cellules de code | Running code cells"
      ]
    },
    {
      "cell_type": "markdown",
      "metadata": {
        "id": "ydLhOgb6JlJt"
      },
      "source": [
        "In this activity, we have already written out all the code for you. While you don't need to write any code, you will have to run each cell yourself.\n",
        "\n",
        "**To RUN a code cell, click the [ ▶️ ] icon that appears on the left of the cell when you hover over it with your mouse.**\n",
        "\n",
        "Give it a try below:\n",
        "\n",
        "\n",
        "</br>\n",
        "\n",
        "---\n",
        "\n",
        "</br>\n",
        "\n",
        "Dans cette activité, nous avons déjà écrit tout le code pour vous. Bien que vous n'ayez pas besoin d'écrire de code, vous devrez exécuter chaque cellule vous-même.\n",
        "\n",
        "**Pour exécuter une cellule de code, cliquez sur l'icône [ ▶️ ] qui apparaît à gauche de la cellule lorsque vous la survolez avec votre souris.\n",
        "\n",
        "Essayez-le ci-dessous :"
      ]
    },
    {
      "cell_type": "code",
      "metadata": {
        "id": "FstQCyPOiVLH"
      },
      "source": [
        "# <--- hover your mouse here! | Passez votre souris ici !\n",
        "\n",
        "# Run this block to print a message!\n",
        "# (Side note: any lines in green like this one are just comments we can add within a code cell to explain what we're doing)\n",
        "\n",
        "print(\"Hello world!\")\n",
        "print(\"**** Bienvenue à l'atelier 'Code Avec Moi - IA' ****\")"
      ],
      "execution_count": null,
      "outputs": []
    },
    {
      "cell_type": "markdown",
      "metadata": {
        "id": "sqZARQhkKRRq"
      },
      "source": [
        "**If the code has any output, it'll show up underneath the block, where** `Hello world!` **is now.**\n",
        "\n",
        "You may also notice that a number appeared in between the brackets `[ ]`.\n",
        "\n",
        "This number just confirms that a cell has finished running and also tells you the order in which code cells were run. `[1]` means this cell was the first one run, and `[2]` was the second cell run, etc.\n",
        "\n",
        "For this activity, you also don't need to worry about trying to figure out exactly how the code works —— we'll explain what each block is doing at each step, so all you need to do is just run them!\n",
        "\n",
        "...\n",
        "\n",
        "Let's try to get some information using Python code. <BR/>**Run the cell below to get current day and time**\n",
        "\n",
        "<br>\n",
        "\n",
        "\n",
        "---\n",
        "\n",
        "<br>\n",
        "\n",
        "\n",
        "Si le code produit un résultat, il apparaîtra sous le bloc, à l'endroit où se trouve maintenant `Hello world!`\n",
        "\n",
        "Vous pouvez également remarquer qu'un nombre est apparu entre les crochets `[ ]`.\n",
        "\n",
        "Ce nombre confirme simplement que l'exécution d'une cellule est terminée et indique également l'ordre dans lequel les cellules de code ont été exécutées. `[1]` signifie que cette cellule a été la première à être exécutée, et `[2]` que la deuxième cellule a été exécutée, etc.\n",
        "\n",
        "Pour cette activité, vous n'avez pas besoin d'essayer de comprendre exactement comment fonctionne le code - nous vous expliquerons ce que fait chaque bloc à chaque étape, de sorte que vous n'aurez qu'à les exécuter !\n",
        "\n",
        "...\n",
        "\n",
        "Essayons d'obtenir quelques informations à l'aide du code Python.\n",
        "</br>**Exécutez la cellule ci-dessous pour obtenir le jour et l'heure**"
      ]
    },
    {
      "cell_type": "code",
      "source": [
        "import datetime\n",
        "import pytz\n",
        "\n",
        "# Specify the Montreal timezone\n",
        "montreal_tz = pytz.timezone('America/Montreal')\n",
        "\n",
        "# Get the current datetime in Montreal\n",
        "current_datetime = datetime.datetime.now(montreal_tz)\n",
        "\n",
        "# Extract the day and format the time nicely\n",
        "current_day = current_datetime.strftime(\"%A\")  # Example: \"Friday\"\n",
        "current_time = current_datetime.strftime(\"%H:%M:%S\")  # Example: \"11:25:45\"\n",
        "\n",
        "print(\"Current day in Montreal:\", current_day)\n",
        "print(\"Current time in Montreal:\", current_time)"
      ],
      "metadata": {
        "id": "_YS-jLAHoLR8"
      },
      "execution_count": null,
      "outputs": []
    },
    {
      "cell_type": "markdown",
      "metadata": {
        "id": "JRRs_9ShQs59"
      },
      "source": [
        "Now that you're a bit more familiar with how a Colab notebook works, let's learn about the dataset we'll be exploring.\n",
        "\n",
        "...\n",
        "\n",
        "Maintenant que vous êtes un peu plus familiarisé avec le fonctionnement d'un cahier Colab, découvrons l'ensemble de données que nous allons explorer.\n"
      ]
    },
    {
      "cell_type": "markdown",
      "metadata": {
        "id": "PdkybTwViSSJ"
      },
      "source": [
        "## A Sujet du jeu de données | About the dataset\n",
        "\n",
        "Mobile application and websites usually capture user activities to get insights and metrics on digital traffic.\n",
        "<br/>\n",
        "This dataset used in this notebook emulate a web ecommerce implementation. It does not not includes Personally Identifiable Information (PII) but only browsing data (online interactions).\n",
        "\n",
        "Now, let's run some code to take a closer look at how our information is structured.\n",
        "\n",
        "</br>\n",
        "\n",
        "---\n",
        "\n",
        "</br>\n",
        "\n",
        "Les applications mobiles et les sites web capturent généralement les activités des utilisateurs afin d'obtenir des informations et des mesures sur le trafic numérique.\n",
        "L'ensemble de données utilisé dans ce cahier émule une implémentation de commerce électronique sur le web. Il ne contient pas d'informations personnelles identifiables (PII), mais uniquement des données de navigation (interactions en ligne).\n",
        "\n",
        "Maintenant, exécutons un peu de code pour voir de plus près comment nos informations sont structurées.\n",
        "\n",
        "\n",
        "\n",
        "\n"
      ]
    },
    {
      "cell_type": "markdown",
      "source": [
        "# 2: Import des données | Import data"
      ],
      "metadata": {
        "id": "q-X7fUXyGCbM"
      }
    },
    {
      "cell_type": "markdown",
      "metadata": {
        "id": "LVqMq8DZOwdG"
      },
      "source": [
        "First, we'll import a few libraries to let the notebook know what specific tools we'll need to work with our data.\n",
        "\n",
        "**You *must* run the cell below before continuing the activity!** (Otherwise, the computer won't understand which specific functions we want to use from each library.)\n",
        "\n",
        "</br>\n",
        "\n",
        "---\n",
        "\n",
        "</br>\n",
        "\n",
        "Tout d'abord, nous allons importer quelques bibliothèques pour indiquer au notebook les outils spécifiques dont nous aurons besoin pour travailler avec nos données.\n",
        "\n",
        "**Vous devez exécuter la cellule ci-dessous avant de poursuivre l'activité*** (sinon, l'ordinateur ne comprendra pas quelles fonctions spécifiques nous voulons utiliser dans chaque bibliothèque).\n"
      ]
    },
    {
      "cell_type": "code",
      "metadata": {
        "id": "Nai7zG7fJT7F"
      },
      "source": [
        "# Import libraries\n",
        "import io\n",
        "import pandas as pd\n",
        "import plotly.express as px\n",
        "\n",
        "print(\"Libraries successfully imported!\")"
      ],
      "execution_count": null,
      "outputs": []
    },
    {
      "cell_type": "markdown",
      "metadata": {
        "id": "F7w8VQjqPROa"
      },
      "source": [
        "Next, we'll upload our dataset to the notebook. The file is stored somewhere in the cloud, on GitHub. <br/> **Run the cell below, and verify that you get a message that says `Dataset successfully loaded`**\n",
        "\n",
        "...\n",
        "\n",
        "Maintenant, nous allons télécharger notre jeu de données dans le notebook. Le fichier est stocké quelque part dans le nuage, sur GitHub.\n",
        "**Exécutez la cellule ci-dessous et vérifiez que vous obtenez un message indiquant `Dataset successfully loaded`**\n"
      ]
    },
    {
      "cell_type": "code",
      "source": [
        "# The URL to identify the file\n",
        "file_url = 'https://raw.githubusercontent.com/cloudvitamin/Technovation/main/visitor_data_training_micro.csv'\n",
        "\n",
        "# The file is loaded into a DataFrame object (df).\n",
        "# A DataFrame is a data structure that organizes data into a 2-dimensional table of rows and columns, much like a spreadsheet.\n",
        "df = pd.read_csv(file_url)\n",
        "\n",
        "# Get number of rows and columns\n",
        "rows = len(df.index)\n",
        "# columns = len(df.columns)\n",
        "print(f\"Dataset successfully loaded ({rows} rows)\")"
      ],
      "metadata": {
        "id": "AjgKaroZ8nF9"
      },
      "execution_count": null,
      "outputs": []
    },
    {
      "cell_type": "markdown",
      "metadata": {
        "id": "IJNJjHmLSbJl"
      },
      "source": [
        "Now that we've uploaded the dataset, let's look into how it's structured.\n",
        "\n",
        "**Run the next cell to see how many rows and columns are in the dataset.**\n",
        "\n",
        "The output will be formatted as **`(number of rows, number of columns)`**.\n",
        "\n",
        "...\n",
        "\n",
        "Maintenant que nous avons téléchargé l'ensemble de données, voyons comment il est structuré.\n",
        "\n",
        "**Exécutez la cellule suivante pour voir combien de lignes et de colonnes il y a dans le jeu de données.\n",
        "\n",
        "La sortie sera formatée comme **`(nombre de lignes, nombre de colonnes)`**."
      ]
    },
    {
      "cell_type": "code",
      "metadata": {
        "id": "_24CQSzts-G4"
      },
      "source": [
        "# See the shape/structure of the dataset: Python code to get number of rows, followed by the number of columns\n",
        "df.shape"
      ],
      "execution_count": null,
      "outputs": []
    },
    {
      "cell_type": "markdown",
      "source": [
        "No we want to know more about the different columns in our dataset.\n",
        "<br/> **Run the next cell to list the different columns and their type (object, float, integer, etc)**\n",
        "\n",
        "...\n",
        "\n",
        "Maintenant nous voulons en savoir plus sur les colonnes dan notre jeu de données.</br>\n",
        "**Exécutez la cellule suivante pour lister les différentes colonnes et leur type (objet, float, integer, etc.)."
      ],
      "metadata": {
        "id": "GBZgSpXp_F2H"
      }
    },
    {
      "cell_type": "code",
      "source": [
        "# See the columns and their type\n",
        "df.info()"
      ],
      "metadata": {
        "id": "vcsxv2GY_FJ3"
      },
      "execution_count": null,
      "outputs": []
    },
    {
      "cell_type": "markdown",
      "metadata": {
        "id": "0dOHaVp2S2vL"
      },
      "source": [
        "Ok, but what is we want to see the data? **We can take a peek at the first few rows of the dataset by running the following cell**\n",
        "</BR> You will see that the dataset if full of 0 and 1 to indicate if app/web app visitors performed specific actions (it shows visitor online behavior).\n",
        "\n",
        "...\n",
        "\n",
        "D'accord, mais que faire si nous voulons voir les données ? **Nous pouvons jeter un coup d'œil aux premières lignes de l'ensemble de données en exécutant la cellule suivante**\n",
        "</br> Vous verrez que l'ensemble de données est rempli de 0 et de 1 pour indiquer si les visiteurs de l'application/web app ont effectué des actions spécifiques (cela montre le comportement en ligne des visiteurs).\n",
        "\n"
      ]
    },
    {
      "cell_type": "code",
      "metadata": {
        "id": "EvBRW7zlszOl"
      },
      "source": [
        "# Show top 5 rows in dataframe\n",
        "df.head(5)"
      ],
      "execution_count": null,
      "outputs": []
    },
    {
      "cell_type": "markdown",
      "metadata": {
        "id": "K1L_0VMce31S"
      },
      "source": [
        "# 3: Commençons à explorer les données | Kickstart your curiosity"
      ]
    },
    {
      "cell_type": "markdown",
      "metadata": {
        "id": "eDROCYn3Tn3C"
      },
      "source": [
        "Since we now have access to the data, we can start asking some questions.\n",
        "\n",
        "**Maybe we want to know who is a new visitor and who is a returning visitor (someone who already visisited in the past).**\n",
        "\n",
        "...\n",
        "\n",
        "Puisque nous avons maintenant accès aux données, nous pouvons commencer à poser quelques questions.\n",
        "\n",
        "**Peut-être voulons-nous savoir qui est un nouveau visiteur et qui est un ancien visiteur (quelqu'un qui a déjà visité dans le passé).**"
      ]
    },
    {
      "cell_type": "code",
      "metadata": {
        "id": "2esMB9u3upj6"
      },
      "source": [
        "# Filters rows based on returning_user coulumn\n",
        "returning_visitor = len(df[df['returning_user']==1])\n",
        "new_visitor = len(df[df['returning_user']==0])\n",
        "\n",
        "print(f\"There are {returning_visitor} returning visitors in the source dataset\")\n",
        "print(f\"There are {new_visitor} new visitors in the source dataset\")\n"
      ],
      "execution_count": null,
      "outputs": []
    },
    {
      "cell_type": "markdown",
      "metadata": {
        "id": "x0kdfxiZUkW1"
      },
      "source": [
        "Or, maybe we want to get the percentage of people who clicked on a specific **promotion banner**\n",
        "\n",
        "...\n",
        "\n",
        "Ou encore, nous voulons peut-être connaître le pourcentage de personnes qui ont cliqué sur une **bannière promotionnelle** spécifique."
      ]
    },
    {
      "cell_type": "code",
      "source": [
        "# The ratio of people who click on the banner out of all the visitors\n",
        "click_promo_percentage = len(df[df['promo_banner_click']==1]) / len(df) * 100\n",
        "print(f\"The percentage of people who clicked on a promotion banner is: {click_promo_percentage}%\")\n",
        "\n"
      ],
      "metadata": {
        "id": "2EllX141Scv0"
      },
      "execution_count": null,
      "outputs": []
    },
    {
      "cell_type": "markdown",
      "metadata": {
        "id": "Ix9773JOUzqO"
      },
      "source": [
        "There are so, so, *so* many other questions you ask about this data.\n",
        "\n",
        "**Take a moment to list some other questions you might have about this dataset. What do you want to know?**\n",
        "\n",
        "*Enter your response by editing the cell below.*\n",
        "\n",
        "...\n",
        "\n",
        "\n",
        "Il y a tellement, tellement, *tellement* d'autres questions que vous posez sur ces données.\n",
        "\n",
        "**Prenez le temps d'énumérer les autres questions que vous pourriez vous poser à propos de cet ensemble de données. Que voulez-vous savoir ?**\n",
        "\n",
        "*Saisissez votre réponse en modifiant la cellule ci-dessous.*"
      ]
    },
    {
      "cell_type": "markdown",
      "metadata": {
        "id": "rIUQJYcpj2qi"
      },
      "source": [
        "<< ***STUDENT RESPONSE | RÉPONSES DES ÉTUDIANTES*** >>\n",
        "\n",
        "[type answer here | Saisissez vos réponses ici]"
      ]
    },
    {
      "cell_type": "markdown",
      "metadata": {
        "id": "t68Z4TK_W_ZO"
      },
      "source": [
        "---\n",
        "\n",
        "Many of the best insights we can gather from data involve looking at trends and patterns --- things that we humans are quite keen at identifying. But it's a little challenging to spot interesting patterns just by looking at a table with words and numbers.\n",
        "\n",
        "That's where *data visualization* comes in. In the next sections, we'll explore 3 different ways of using code to manipulate our dataset and create charts that can help reveal intriguing insights.\n",
        "\n",
        "...\n",
        "\n",
        "La plupart des meilleures informations que nous pouvons tirer des données impliquent l'examen des tendances et des modèles - des éléments que nous, les êtres humains, sommes capables d'identifier. Mais il n'est pas facile de repérer des modèles intéressants en regardant simplement un tableau de mots et de chiffres.\n",
        "\n",
        "C'est là que la *visualisation des données* entre en jeu. Dans les sections suivantes, nous allons explorer 3 façons différentes d'utiliser le code pour manipuler notre ensemble de données et créer des graphiques qui peuvent aider à révéler des idées intrigantes."
      ]
    },
    {
      "cell_type": "markdown",
      "metadata": {
        "id": "r83YKX8dgXL7"
      },
      "source": [
        "# 4: **Visualisation des données | Visualize data**"
      ]
    },
    {
      "cell_type": "markdown",
      "metadata": {
        "id": "YQb3AjaYbyM-"
      },
      "source": [
        "In this section, we'll look at devices used by mobile app visitors\n",
        "We create a graph to represent the number of visitors based on the device category.\n",
        "\n",
        "...\n",
        "\n",
        "Dans cette section, nous examinerons les appareils utilisés par les visiteurs de l'application mobile\n",
        "Nous créons un graphique pour représenter le nombre de visiteurs en fonction de la catégorie d'appareil."
      ]
    },
    {
      "cell_type": "code",
      "source": [
        "# Import Plotly ligraries used to create graphs\n",
        "import plotly.graph_objects as go\n",
        "import pandas as pd\n",
        "from plotly.subplots import make_subplots\n",
        "\n",
        "# Select the different device categories from the source dataset\n",
        "df_graph = df[['device_mobile', 'device_computer', 'device_tablet']]\n",
        "fig = make_subplots(rows=1, cols=3, subplot_titles=('Mobile', 'Computer', 'Tablet'))\n",
        "L= len(df)\n",
        "\n",
        "# Create graph for each device category\n",
        "cnames = list(df_graph.columns)\n",
        "for k, name in enumerate(cnames):\n",
        "    n_true = df[name].sum()\n",
        "    fig.add_trace(go.Bar(x=['True', 'False'], y=[n_true, L-n_true], name=name ), 1,k+1)\n",
        "\n",
        "fig.update_layout(barmode='relative',  bargap=0.05, title='Browsing devices by visitors (50 000 in the dataset)')\n",
        "\n",
        "fig.show()"
      ],
      "metadata": {
        "id": "xWQZ5go_w0cW"
      },
      "execution_count": null,
      "outputs": []
    },
    {
      "cell_type": "markdown",
      "metadata": {
        "id": "ZJTZoqzIbpwE"
      },
      "source": [
        "### Soyons analytiques | Let's get analytical\n",
        "\n",
        "**Given the graph above, answer the following questions in the cell below:**\n",
        "\n",
        "(You can hover over each bar for additional information.)\n",
        "\n",
        "1. How many different device categories are included in the dataset\n",
        "2. How many people are browsing from a desktop?\n",
        "3. What percentage of visitors are using a tablet?\n",
        "4. (Bonus question) Are you able to pinpoint an error in the dataset regarding devices?\n",
        "\n",
        "...\n",
        "\n",
        "\n",
        "**Compte tenu du graphique ci-dessus, répondez aux questions suivantes dans la cellule ci-dessous:**\n",
        "\n",
        "(Vous pouvez survoler chaque barre pour obtenir des informations supplémentaires).\n",
        "\n",
        "1. Combien de catégories d'appareils différentes sont incluses dans l'ensemble de données ?\n",
        "2. Combien de personnes naviguent à partir d'un ordinateur de bureau ?\n",
        "3. Quel est le pourcentage de visiteurs utilisant une tablette ?\n",
        "4. (Question bonus) Êtes-vous en mesure d'identifier une erreur dans l'ensemble de données concernant les appareils ?"
      ]
    },
    {
      "cell_type": "markdown",
      "metadata": {
        "id": "l34ND7CRlQcR"
      },
      "source": [
        "<< ***STUDENT RESPONSE | RÉPONSES DES ÉTUDIANTES*** >>\n",
        "\n",
        "1.\n",
        "2.\n",
        "3.\n",
        "4."
      ]
    },
    {
      "cell_type": "markdown",
      "source": [
        "Finally, we want to take a look at who placed an order in our historical dataset (Buyers vs Non-Buyers).\n",
        "This information is critical for us as it will be what we will try to predict in the next section.\n",
        "\n",
        "...\n",
        "\n",
        "Enfin, nous souhaitons examiner qui a passé une commande dans notre ensemble de données historiques (acheteurs et non-acheteurs).\n",
        "Cette information est essentielle pour nous, car c'est ce que nous essaierons de prédire dans la section suivante."
      ],
      "metadata": {
        "id": "sBsvN9bu7Hz0"
      }
    },
    {
      "cell_type": "code",
      "source": [
        "fig = px.histogram(df, x=\"ordered\", title=\"Non-buyers vs Buyers\")\n",
        "fig.update_layout(barmode='relative',  bargap=0.05, width=700, height=400)\n",
        "fig.show()"
      ],
      "metadata": {
        "id": "elkPrYvIiMuH"
      },
      "execution_count": null,
      "outputs": []
    },
    {
      "cell_type": "code",
      "source": [
        "# Overall, what is the approximate percentage of buyers in our dataset?\n",
        "\n",
        "# Filters rows based on Buyer coulumn\n",
        "df_buyers = df[df['ordered']==1]\n",
        "\n",
        "# Get number of rows in the new dataframe\n",
        "nb_buyers = len(df_buyers)\n",
        "nb_visitors = len(df)\n",
        "\n",
        "buyer_percentage = (nb_buyers/nb_visitors)*100\n",
        "print(f\"The percentage of buyers in our dataset is: {buyer_percentage}%\")"
      ],
      "metadata": {
        "id": "ozATxw0jQ_DL"
      },
      "execution_count": null,
      "outputs": []
    },
    {
      "cell_type": "markdown",
      "metadata": {
        "id": "eJwtVwBBkHCC"
      },
      "source": [
        "# 5: Créer un modèle IA pour prédire les acheteurs | Create an AI model to predict buyers"
      ]
    },
    {
      "cell_type": "markdown",
      "metadata": {
        "id": "e8O89Alfr9_P"
      },
      "source": [
        "Our dataset contain historical information about web app visitors. It includes a variable to identify if a visitor became a buyer or not (the`'ordered'` column).\n",
        "\n",
        "<br/> In this section, we will create a model using the available data to predict if a visitor is likely to become a buyer, just using browsing information available in the dataset.\n",
        "We will train the model to differentiate buyers from non-buyers based on historical data that includes the 'buyer' information. This is called **supervised learning**.\n",
        "\n",
        "...\n",
        "\n",
        "Notre ensemble de données contient des informations historiques sur les visiteurs d'applications web. Il comprend une variable permettant d'identifier si un visiteur est devenu un acheteur ou non (la colonne `ordered`).\n",
        "\n",
        "</br>\n",
        "\n",
        "Dans cette section, nous allons créer un modèle utilisant les données disponibles pour prédire si un visiteur est susceptible de devenir un acheteur, en utilisant uniquement les informations de navigation disponibles dans l'ensemble de données. Nous entraînerons le modèle à différencier les acheteurs des non-acheteurs sur la base des données historiques qui incluent les informations relatives aux acheteurs. C'est ce qu'on appelle **l'apprentissage supervisé.**"
      ]
    },
    {
      "cell_type": "code",
      "source": [
        "# Preprocessing\n",
        "df.info()"
      ],
      "metadata": {
        "id": "ksWcAg-S2GLI"
      },
      "execution_count": null,
      "outputs": []
    },
    {
      "cell_type": "markdown",
      "source": [
        "To train the model, we remove `ordered` as it is the variable the model will predict.\n",
        "We also remove `UserID` as we don't need user identifiers to train this model.\n",
        "\n",
        "...\n",
        "\n",
        "Pour entraîner le modèle, nous supprimons `ordered` car c'est la variable que le modèle va prédire.\n",
        "Nous supprimons également `UserID` car nous n'avons pas besoin des identifiants des utilisateurs pour entraîner ce modèle."
      ],
      "metadata": {
        "id": "q5EMoBRO8Z5E"
      }
    },
    {
      "cell_type": "code",
      "source": [
        "# To train the model, we remove 'ordered' as it is the variable the model will predict.\n",
        "# We also remove 'UserID' as we don't need user identifiers to train this model.\n",
        "X = df.drop(['ordered','UserID'], axis=1)  # Features used to train the model\n",
        "\n",
        "# Target variable: the variable the model will predict\n",
        "y = df['ordered']\n",
        "\n"
      ],
      "metadata": {
        "id": "y_1UcX4YxEX2"
      },
      "execution_count": null,
      "outputs": []
    },
    {
      "cell_type": "code",
      "source": [
        "X.info()"
      ],
      "metadata": {
        "id": "AhapRdaq2dGo"
      },
      "execution_count": null,
      "outputs": []
    },
    {
      "cell_type": "markdown",
      "source": [
        "Then we split the dataset to have some data for training and some data for testing (usually 80-20%).\n",
        "\n",
        "...\n",
        "\n",
        "Ensuite, nous divisons l'ensemble de données pour obtenir des données pour la formation et d'autres pour le test (généralement 80-20%)."
      ],
      "metadata": {
        "id": "I-hIcxlm8twt"
      }
    },
    {
      "cell_type": "code",
      "source": [
        "# Import Python libraries that are required for AI/ML training\n",
        "import pandas as pd\n",
        "import xgboost as xgb\n",
        "from sklearn.model_selection import train_test_split\n",
        "from sklearn.metrics import accuracy_score\n",
        "from sklearn.metrics import confusion_matrix\n",
        "\n",
        "\n",
        "# Split data to have some for training and some for testing (usually 80-20%)\n",
        "X_train, X_test, y_train, y_test = train_test_split(X, y, test_size=0.2)\n",
        "\n",
        "# Diplay info on the training dataset\n",
        "X_train.info()\n",
        "X_train.head(10)"
      ],
      "metadata": {
        "id": "uuPaLdKZ23jj"
      },
      "execution_count": null,
      "outputs": []
    },
    {
      "cell_type": "markdown",
      "source": [
        "The next cell is where we do the AI/ML model training. We use a machine learning algorithm called **XGBoost**.\n",
        "\n",
        "...\n",
        "\n",
        "C'est dans la cellule suivante que nous effectuons l'apprentissage du modèle d'IA/ML. Nous utilisons un algorithme d'apprentissage automatique appelé **XGBoost**.\n"
      ],
      "metadata": {
        "id": "iTm_JC7P2BPW"
      }
    },
    {
      "cell_type": "code",
      "source": [
        "\n",
        "\n",
        "# XGBoost model training. XGBClassifier is used as we do a classification (buyer vs non-buyer)\n",
        "# Note that we are using X_train and y_train here\n",
        "model = xgb.XGBClassifier()\n",
        "model.fit(X_train, y_train)\n",
        "\n",
        "print(\"The training of the predictive AI model is completed.\")\n",
        "\n",
        "# Predictions based on data not used during training\n",
        "y_pred = model.predict(X_test)\n",
        "\n",
        "# Evaluation - Display model accuracy\n",
        "# The accuracy score represents the percentage of correct predictions made by a model out of all predictions.\n",
        "# A simple formula of model accuracy is: Accuracy = (Number of Correct Predictions) / (Total Number of Predictions)\n",
        "accuracy = accuracy_score(y_test, y_pred)\n",
        "\n",
        "print(\"Model accuracy:\", accuracy)"
      ],
      "metadata": {
        "id": "T4ntb_wC0eep"
      },
      "execution_count": null,
      "outputs": []
    },
    {
      "cell_type": "markdown",
      "source": [
        "An accuracy score is always between 0 (the model is alway wrong) and 1 (the model is 100% correct).\n",
        "A confusion matrix is a table used to visualize the performance of a classification model in machine learning (models that predict categories).\n",
        "</br> Here we use the confusion matrix to better understand the model predictions\n",
        "\n",
        "...\n",
        "\n",
        "Un score de précision est toujours compris entre 0 (le modèle est toujours faux) et 1 (le modèle est correct à 100 %).\n",
        "La matrice de confusion est un tableau utilisé pour visualiser les performances d'un modèle de classification dans l'apprentissage automatique (modèles qui prédisent des catégories).\n",
        "</br>Nous utilisons ici la matrice de confusion pour mieux comprendre les prédictions du modèle.\n",
        "\n"
      ],
      "metadata": {
        "id": "OqjmNjqzWxdS"
      }
    },
    {
      "cell_type": "code",
      "source": [
        "# Using confusion matrix to better understand model predictions\n",
        "cm = confusion_matrix(y_test, y_pred)\n",
        "# print(cm) ## Uncomment to display the confusion matrix\n",
        "\n",
        "total_visitors = len(y_test)\n",
        "# Extract metrics from the confusion matrix\n",
        "total_buyers = cm[1,0] + cm[1,1]\n",
        "total_non_buyers = cm[0,0] + cm[0,1]\n",
        "\n",
        "print(f\"There are {total_visitors} visitors in the test dataset. {total_buyers} of them became buyers while {total_non_buyers} others did not.\")\n",
        "print(f\"Out of the {total_buyers} real buyers, the model correcly identified {cm[1,1]} of them as buyers and made a wrong prediction for {cm[1,0]} of them (non-buyers).\")\n",
        "print(f\"Out of the {total_non_buyers} non-buyers, the model correcly identified {cm[0,0]} of them as non-buyers and made a wrong prediction for {cm[0,1]} of them (buyers).\")\n",
        "\n",
        "model_accuracy = ((cm[0,0]+cm[1,1])/ total_visitors) * 100\n",
        "print(f\"The model accuracy (percentage of correct predictions) is: {model_accuracy}%\")"
      ],
      "metadata": {
        "id": "NJrWVxnTcMv0"
      },
      "execution_count": null,
      "outputs": []
    },
    {
      "cell_type": "markdown",
      "source": [
        "There are many visitors in the test dataset. Some of them became buyers while someothers did not.\n",
        "\n",
        "Out of the real buyers, the model correcly identified some of them as buyers and made a wrong prediction for pthers (non-buyers).\n",
        "\n",
        "Out of all the non-buyers, the model correcly identified some of them as non-buyers and made a wrong prediction for others (buyers).\n",
        "\n",
        "The different results show that model predictions are not always correct.\n",
        "\n",
        "...\n",
        "\n",
        "L'ensemble de données de test contient de nombreux visiteurs. Certains d'entre eux sont devenus des acheteurs, d'autres non.\n",
        "\n",
        "Parmi les acheteurs réels, le modèle a correctement identifié certains d'entre eux comme acheteurs et a fait une prédiction erronée pour les autres (non-acheteurs).\n",
        "\n",
        "Parmi tous les non-acheteurs, le modèle a correctement identifié certains d'entre eux comme non-acheteurs et a fait une prédiction erronée pour d'autres (acheteurs).\n",
        "\n",
        "Les différents résultats montrent que les prédictions du modèle ne sont pas toujours correctes."
      ],
      "metadata": {
        "id": "DPoGmLOsiT5O"
      }
    },
    {
      "cell_type": "markdown",
      "source": [
        "# 6: Utilisez votre modèle pour prédire le nombre de nouveaux visiteurs en ligne | Use your model for predictions on new online visitors"
      ],
      "metadata": {
        "id": "TEI3dxGwPzT3"
      }
    },
    {
      "cell_type": "markdown",
      "source": [
        "Now that we have a trained model, we can use it for prediction. In the section below, we randomly select some visitors from our test dataset.\n",
        "And then we ask the modèle to predict whether or not they will become buyers based on their online behavior.\n",
        "\n",
        "...\n",
        "\n",
        "Maintenant que nous disposons d'un modèle entraîné, nous pouvons l'utiliser pour la prédiction. Dans la section ci-dessous, nous sélectionnons au hasard quelques visiteurs dans notre ensemble de données de test.\n",
        "Nous demandons ensuite au modèle de prédire s'ils deviendront ou non des acheteurs en fonction de leur comportement en ligne."
      ],
      "metadata": {
        "id": "tZYSgpFM-Uta"
      }
    },
    {
      "cell_type": "code",
      "source": [
        "# Get random rows from a dataset\n",
        "df_sample = X_test.sample(n=50)\n",
        "df_sample"
      ],
      "metadata": {
        "id": "4YNW2nKLIHEo"
      },
      "execution_count": null,
      "outputs": []
    },
    {
      "cell_type": "code",
      "source": [
        "# Display info on the test sample dataset\n",
        "df_sample.info()"
      ],
      "metadata": {
        "id": "twuTq587LPsy"
      },
      "execution_count": null,
      "outputs": []
    },
    {
      "cell_type": "code",
      "source": [
        "predictions = model.predict(df_sample)\n",
        "\n",
        "df_visitor_prediction = df_sample.copy()\n",
        "df_visitor_prediction['predicted'] = predictions"
      ],
      "metadata": {
        "id": "8rxqWGDvIl4o"
      },
      "execution_count": null,
      "outputs": []
    },
    {
      "cell_type": "code",
      "source": [
        "\n",
        "# Display the list of visitors where the AI model predict they will become buyer\n",
        "df_visitor_prediction[df_visitor_prediction['predicted']==1]"
      ],
      "metadata": {
        "id": "IwVddjoZ9S-g"
      },
      "execution_count": null,
      "outputs": []
    },
    {
      "cell_type": "markdown",
      "source": [
        "---\n",
        "\n",
        "</br>\n",
        "\n",
        "**CONGRATULATIONS!!** You have created and tested an predictive AI model.\n",
        "</br> The IA model can predict if a visitor will become a buyer or not.\n",
        "</br>\n",
        "Now you realize how our online activity can be used to better understand us. With simpe data, AI models can help predict consumer behaviors.\n",
        "\n",
        "...\n",
        "\n",
        "**FÉLICITATIONS !** Vous avez créé et testé un modèle d'IA prédictif.\n",
        "Le modèle d'IA peut prédire si un visiteur deviendra un acheteur ou non.\n",
        "Vous comprenez maintenant comment notre activité en ligne peut être utilisée pour mieux nous comprendre. Avec des données simples, les modèles d'IA peuvent aider à prédire les comportements des consommateurs.\n"
      ],
      "metadata": {
        "id": "oV502HA5NJ3t"
      }
    }
  ]
}